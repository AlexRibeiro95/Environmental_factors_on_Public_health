{
 "cells": [
  {
   "cell_type": "markdown",
   "metadata": {},
   "source": [
    "#### City metrics\n",
    "\n",
    "- This notebook is to bridge the user input by city, and translate associated metrics as green_space, population, and air quality index to the model input."
   ]
  },
  {
   "cell_type": "code",
   "execution_count": 2,
   "metadata": {},
   "outputs": [
    {
     "name": "stdout",
     "output_type": "stream",
     "text": [
      "City-metrics mapping saved successfully.\n"
     ]
    }
   ],
   "source": [
    "import pandas as pd\n",
    "import json\n",
    "\n",
    "# Load the cleaned final dataset\n",
    "df = pd.read_csv('/Users/alexandreribeiro/Documents/GitHub/final_project/data/clean/data_with_cities.csv')\n",
    "\n",
    "# Remove duplicates based on the 'city' column\n",
    "df_unique = df.drop_duplicates(subset='city')\n",
    "\n",
    "# Create a dictionary mapping each city to its metrics\n",
    "city_mapping = df_unique.set_index('city')[['population_city', 'greenspacearea_km2', 'AQI']].to_dict(orient='index')\n",
    "\n",
    "# Save the mapping to a JSON file for use in the Streamlit app\n",
    "with open('city_mapping.json', 'w') as f:\n",
    "    json.dump(city_mapping, f)\n",
    "\n",
    "print(\"City-metrics mapping saved successfully.\")"
   ]
  },
  {
   "cell_type": "code",
   "execution_count": 3,
   "metadata": {},
   "outputs": [],
   "source": [
    "def adjust_metrics_based_on_input(city_metrics, obesity, smoking, copd, depression):\n",
    "    \"\"\"\n",
    "    Adjust city-level health metrics based on user input.\n",
    "    \n",
    "    Args:\n",
    "    city_metrics (dict): Original metrics for the selected city.\n",
    "    obesity (str): \"Yes\" or \"No\" indicating user obesity.\n",
    "    smoking (str): \"Yes\" or \"No\" indicating user smoking.\n",
    "    copd (str): \"Yes\" or \"No\" indicating user COPD.\n",
    "    depression (str): \"Yes\" or \"No\" indicating user depression.\n",
    "    \n",
    "    Returns:\n",
    "    dict: Adjusted metrics based on user input.\n",
    "    \"\"\"\n",
    "    adjusted_metrics = city_metrics.copy()\n",
    "    \n",
    "    # Adjust based on user inputs\n",
    "    if obesity == \"Yes\":\n",
    "        adjusted_metrics['adjusted_obesity_rate'] += 0.1  # Increase by a small factor\n",
    "    \n",
    "    if smoking == \"Yes\":\n",
    "        adjusted_metrics['adjusted_smoking_rate'] += 0.1  # Increase by a small factor\n",
    "    \n",
    "    if copd == \"Yes\":\n",
    "        adjusted_metrics['adjusted_copd_rate'] += 0.05  # Increase by a small factor\n",
    "    \n",
    "    if depression == \"Yes\":\n",
    "        adjusted_metrics['adjusted_depression_rate'] += 0.05  # Increase by a small factor\n",
    "    \n",
    "    return adjusted_metrics"
   ]
  },
  {
   "cell_type": "code",
   "execution_count": 4,
   "metadata": {},
   "outputs": [],
   "source": [
    "import json\n",
    "\n",
    "# Load the city-metrics mapping\n",
    "with open('city_mapping.json', 'r') as f:\n",
    "    city_mapping = json.load(f)\n",
    "\n",
    "def get_city_metrics(city_name):\n",
    "    \"\"\"\n",
    "    Retrieve metrics for the selected city.\n",
    "    \n",
    "    Args:\n",
    "    city_name (str): Name of the city.\n",
    "    \n",
    "    Returns:\n",
    "    dict: Metrics for the city.\n",
    "    \"\"\"\n",
    "    return city_mapping.get(city_name, None)"
   ]
  },
  {
   "cell_type": "code",
   "execution_count": 5,
   "metadata": {},
   "outputs": [],
   "source": [
    "def make_adjusted_prediction(city_name, obesity, smoking, copd, depression, scaler, models):\n",
    "    # Step 1: Retrieve city metrics\n",
    "    city_metrics = get_city_metrics(city_name)\n",
    "    if city_metrics is None:\n",
    "        raise ValueError(f\"No data available for city: {city_name}\")\n",
    "    \n",
    "    # Step 2: Adjust metrics based on user input\n",
    "    adjusted_metrics = adjust_metrics_based_on_input(city_metrics, obesity, smoking, copd, depression)\n",
    "    \n",
    "    # Step 3: Prepare input for model (convert to DataFrame)\n",
    "    feature_names = ['population_city', 'greenspacearea_km2', 'AQI', 'adjusted_obesity_rate',\n",
    "                     'adjusted_smoking_rate', 'adjusted_copd_rate', 'adjusted_depression_rate']\n",
    "    \n",
    "    input_data = pd.DataFrame([adjusted_metrics], columns=feature_names)\n",
    "    \n",
    "    # Step 4: Scale the input data\n",
    "    input_data_scaled = scaler.transform(input_data)\n",
    "    \n",
    "    # Step 5: Make the prediction\n",
    "    prediction = make_prediction(input_data_scaled, models)\n",
    "    \n",
    "    return prediction"
   ]
  }
 ],
 "metadata": {
  "kernelspec": {
   "display_name": "env_test",
   "language": "python",
   "name": "python3"
  },
  "language_info": {
   "codemirror_mode": {
    "name": "ipython",
    "version": 3
   },
   "file_extension": ".py",
   "mimetype": "text/x-python",
   "name": "python",
   "nbconvert_exporter": "python",
   "pygments_lexer": "ipython3",
   "version": "3.11.9"
  }
 },
 "nbformat": 4,
 "nbformat_minor": 2
}
